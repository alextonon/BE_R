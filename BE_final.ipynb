{
 "cells": [
  {
   "cell_type": "markdown",
   "id": "549e9fd4",
   "metadata": {},
   "source": [
    "# **Projet SDD - Statistiques : Jeu de données Météo en France**"
   ]
  },
  {
   "cell_type": "markdown",
   "id": "a74abbcc",
   "metadata": {},
   "source": [
    "MAURETTE Audrey / TONON Alexandre / MAIGNAN Alexandre / LE SECQ Antonin / CLAICH Octave"
   ]
  },
  {
   "cell_type": "markdown",
   "id": "cb156961",
   "metadata": {},
   "source": [
    "Chaque partie ayant été effectuée par un membre différent de l'équipe, il peut arriver que les mêmes variables/dataframes soient définis à différents endroits du projet, le travail ayant été effectué séparément (après définition des objectifs du groupe)."
   ]
  },
  {
   "cell_type": "markdown",
   "id": "d371bd1a",
   "metadata": {},
   "source": [
    "# Partie 1 - Exploration des données"
   ]
  },
  {
   "cell_type": "markdown",
   "id": "8063e263",
   "metadata": {},
   "source": [
    "#### Chargement des librairies et lecture du dataset"
   ]
  },
  {
   "cell_type": "code",
   "execution_count": 1,
   "id": "b3b9e276",
   "metadata": {
    "vscode": {
     "languageId": "r"
    }
   },
   "outputs": [
    {
     "name": "stderr",
     "output_type": "stream",
     "text": [
      "Le chargement a nécessité le package : ggplot2\n",
      "\n",
      "\u001b[32mℹ\u001b[39m Google's Terms of Service: \u001b[34m\u001b[3m<https://mapsplatform.google.com>\u001b[23m\u001b[39m\n",
      "  Stadia Maps' Terms of Service: \u001b[34m\u001b[3m<https://stadiamaps.com/terms-of-service>\u001b[23m\u001b[39m\n",
      "  OpenStreetMap's Tile Usage Policy: \u001b[34m\u001b[3m<https://operations.osmfoundation.org/policies/tiles>\u001b[23m\u001b[39m\n",
      "\u001b[32mℹ\u001b[39m Please cite \u001b[34mggmap\u001b[39m if you use it! Use `citation(\"ggmap\")` for details.\n",
      "\n",
      "Attachement du package : ‘dplyr’\n",
      "\n",
      "\n",
      "Les objets suivants sont masqués depuis ‘package:data.table’:\n",
      "\n",
      "    between, first, last\n",
      "\n",
      "\n",
      "Les objets suivants sont masqués depuis ‘package:stats’:\n",
      "\n",
      "    filter, lag\n",
      "\n",
      "\n",
      "Les objets suivants sont masqués depuis ‘package:base’:\n",
      "\n",
      "    intersect, setdiff, setequal, union\n",
      "\n",
      "\n",
      "\n",
      "Attachement du package : ‘pls’\n",
      "\n",
      "\n",
      "L'objet suivant est masqué depuis ‘package:stats’:\n",
      "\n",
      "    loadings\n",
      "\n",
      "\n",
      "corrplot 0.95 loaded\n",
      "\n",
      "\n",
      "Attachement du package : ‘corrplot’\n",
      "\n",
      "\n",
      "L'objet suivant est masqué depuis ‘package:pls’:\n",
      "\n",
      "    corrplot\n",
      "\n",
      "\n",
      "Loaded lars 1.3\n",
      "\n",
      "\n",
      "Warning message in readLines(\"API.txt\", n = 1):\n",
      "“ligne finale incomplète trouvée dans 'API.txt'”\n"
     ]
    }
   ],
   "source": [
    "library(ggmap)\n",
    "library(ggplot2)\n",
    "library(data.table)\n",
    "library(dplyr)\n",
    "library(tidyr)\n",
    "library(FactoMineR)\n",
    "library(ggfortify)\n",
    "library(ggrepel)\n",
    "library(pls)\n",
    "library(boot)\n",
    "library(corrplot)\n",
    "library(lars)\n",
    "\n",
    "API_key <- readLines(\"API.txt\",n = 1)\n",
    "options(repr.plot.width = 12, repr.plot.height = 6)\n",
    "\n",
    "register_stadiamaps(key = API_key)"
   ]
  },
  {
   "cell_type": "code",
   "execution_count": 46,
   "id": "022f8ac9",
   "metadata": {
    "vscode": {
     "languageId": "r"
    }
   },
   "outputs": [],
   "source": [
    "# Lire les données depuis le csv \n",
    "df <- read.csv(\"donnees-synop-essentielles-omm.csv\", sep = \";\", header = TRUE)"
   ]
  },
  {
   "cell_type": "markdown",
   "id": "b2de2a90",
   "metadata": {},
   "source": [
    "## Description quantitative des données"
   ]
  },
  {
   "cell_type": "code",
   "execution_count": null,
   "id": "ea7a032f",
   "metadata": {
    "vscode": {
     "languageId": "r"
    }
   },
   "outputs": [],
   "source": [
    "cat(\"Le dataset contient\", nrow(df), \"lignes (points de mesures) et\", ncol(df), \"colonnes (paramètres).\\n\")\n",
    "cat(\"Il contient des données météo issues de\", length(unique(df$ID.OMM.station)), \"stations.\\n\")\n",
    "\n",
    "cat(\"Les données débutent le\", min(df$Date), \"et se terminent le\", max(df$Date), \".\\n\")"
   ]
  },
  {
   "cell_type": "markdown",
   "id": "133c4494",
   "metadata": {},
   "source": [
    "## Répartition temporelle des données\n",
    "On regarde l'étendue de nos données et les éventuels trous pour ne pas suranalyser des phénomènes plus tard (ex si on a un hiver de + dans les données, cela fausse nos moyennes de température)"
   ]
  },
  {
   "cell_type": "code",
   "execution_count": null,
   "id": "e4d3c765",
   "metadata": {
    "vscode": {
     "languageId": "r"
    }
   },
   "outputs": [],
   "source": [
    "annee <- as.numeric(format(as.Date(df$Date), \"%Y\"))\n",
    "mois <- as.numeric(format(as.Date(df$Date), \"%m\"))\n",
    "\n",
    "df$Annee <- annee\n",
    "df$Mois <- mois"
   ]
  },
  {
   "cell_type": "code",
   "execution_count": null,
   "id": "d6041c01",
   "metadata": {
    "vscode": {
     "languageId": "r"
    }
   },
   "outputs": [],
   "source": [
    "par(bg = \"white\")\n",
    "barplot(table(annee),\n",
    "        main = \"Nombre d'observations par année (tous mois confondus)\",\n",
    "        col = \"lightblue\",\n",
    "        xlab = \"Année\",\n",
    "        ylab = \"Nombre d'observations\")"
   ]
  },
  {
   "cell_type": "markdown",
   "id": "5f774c90",
   "metadata": {},
   "source": [
    "En 2025 il est normal qu'il manque quelques mois  \n",
    "En 2015 en revanche le nombre de données est plus faible. On doit vérifier si l'année est complète ou si quelques mois seulement sont représentés\n",
    "\n"
   ]
  },
  {
   "cell_type": "code",
   "execution_count": null,
   "id": "348cda31",
   "metadata": {
    "vscode": {
     "languageId": "r"
    }
   },
   "outputs": [],
   "source": [
    "cat(\"En 2016, les mois représentés sont : \", sort(unique(mois[annee == 2015])), \"\\n\")\n",
    "cat(\"En 2025, les mois représentés sont : \", sort(unique(mois[annee == 2025])), \"\\n\")"
   ]
  },
  {
   "cell_type": "markdown",
   "id": "cb19c3a6",
   "metadata": {},
   "source": [
    "On apprend que le dataset est glissant et qu'on a 10 ans entièrement représentées : cela va nous aider pour nos interprétations. On confirme ca avec l'étude du nombre d'observations par mois, pour vérifier que globalement on a pas une surreprésentation de tel ou tel mois"
   ]
  },
  {
   "cell_type": "code",
   "execution_count": null,
   "id": "9e871bd8",
   "metadata": {
    "vscode": {
     "languageId": "r"
    }
   },
   "outputs": [],
   "source": [
    "par(bg = \"white\")\n",
    "barplot(table(mois),\n",
    "        main = \"Nombre d'observations par mois (toutes années confondues)\",\n",
    "        col = \"lightblue\",\n",
    "        xlab = \"Mois\",\n",
    "        ylab = \"Nombre d'observations\")\n",
    "\n",
    "cat(\"Cette représentation montre que les données sont globalement bien réparties sur les mois.\\n\")"
   ]
  },
  {
   "cell_type": "markdown",
   "id": "475037db",
   "metadata": {},
   "source": [
    "## Données géographiques"
   ]
  },
  {
   "cell_type": "code",
   "execution_count": null,
   "id": "98d0fa23",
   "metadata": {
    "vscode": {
     "languageId": "r"
    }
   },
   "outputs": [],
   "source": [
    "cat(\"Le dataset comporte\",length(unique(df$communes..code.)), \"communes différentes.\\n\")\n",
    "cat(\"Le dataset comporte\",length(unique(df$department..code.)), \"départements différents.\\n\")\n",
    "cat(\"Le dataset comporte\",length(unique(df$region..code.)), \"régions différentes.\\n\")"
   ]
  },
  {
   "cell_type": "code",
   "execution_count": null,
   "id": "597210d0",
   "metadata": {
    "vscode": {
     "languageId": "r"
    }
   },
   "outputs": [],
   "source": [
    "# Nombre de stations uniques par année\n",
    "nb_stations <- tapply(df$ID.OMM.station, df$Annee, function(x) length(unique(x)))\n",
    "\n",
    "par(bg = \"white\")\n",
    "barplot(nb_stations,\n",
    "        main = \"Nombre de stations par année\",\n",
    "        col = \"lightblue\",\n",
    "        xlab = \"Année\",\n",
    "        ylab = \"Nombre de stations\")"
   ]
  },
  {
   "cell_type": "code",
   "execution_count": null,
   "id": "cda85ccc",
   "metadata": {
    "vscode": {
     "languageId": "r"
    }
   },
   "outputs": [],
   "source": [
    "options(repr.plot.width = 8, repr.plot.height = 8)\n",
    "fr_bbox <- c(left = -6, bottom = 41, right = 10, top = 52)\n",
    "map <- get_stadiamap(bbox = fr_bbox, zoom = 5, maptype = \"stamen_toner_lite\")\n",
    "\n",
    "stations <- unique(df[, c(\"Longitude\", \"Latitude\")])\n",
    "\n",
    "ggmap(map) +\n",
    "geom_point(\n",
    "    data = stations,\n",
    "    aes(x = Longitude, y = Latitude),\n",
    "    color = \"red\",\n",
    "    size = 3\n",
    "  )\n",
    "\n",
    "options(repr.plot.width = 12, repr.plot.height = 6)"
   ]
  },
  {
   "cell_type": "markdown",
   "id": "b5cb6cb9",
   "metadata": {},
   "source": [
    "On note qu'il y a 20 stations en dehors de la France métropolitaine"
   ]
  },
  {
   "cell_type": "markdown",
   "id": "291cfb8a",
   "metadata": {},
   "source": [
    "## Qualité"
   ]
  },
  {
   "cell_type": "code",
   "execution_count": null,
   "id": "c3b761db",
   "metadata": {
    "vscode": {
     "languageId": "r"
    }
   },
   "outputs": [],
   "source": [
    "par(bg = \"white\")\n",
    "options(repr.plot.width = 12, repr.plot.height = 6)\n",
    "\n",
    "na_pct <- colMeans(is.na(as.data.frame(df))) * 100\n",
    "na_pct <- sort(na_pct, decreasing = TRUE)\n",
    "\n",
    "barplot(na_pct,\n",
    "        main = \"Pourcentage de NA par variable\",\n",
    "        col = \"tomato\",\n",
    "        las = 2,\n",
    "        ylab = \"% de NA\",\n",
    "        cex.names = 0.7)"
   ]
  },
  {
   "cell_type": "markdown",
   "id": "ee7cbb29",
   "metadata": {},
   "source": [
    "## Premières Analyses"
   ]
  },
  {
   "cell_type": "markdown",
   "id": "e36f2a5c",
   "metadata": {},
   "source": [
    "Cette partie nous a permis de se forger des premières opinions, de chercher des phénomènes à analyser par la suite. Ainsi on va chercher à donner une réalité statistique, à ces observations/ intuitions tout au long des différentes parties."
   ]
  },
  {
   "cell_type": "markdown",
   "id": "91b9ae0b",
   "metadata": {},
   "source": [
    "### Moyenne des températures par année\n",
    "\n",
    "On va commencer par regarder la température moyenne en France, pour chaque année, afin de voir si elle se conserve ou non. On enlève de l'étude 2015 et 2025, qui ne sont pas complètes dans le jeu de données."
   ]
  },
  {
   "cell_type": "code",
   "execution_count": null,
   "id": "e7eb9dba",
   "metadata": {
    "vscode": {
     "languageId": "r"
    }
   },
   "outputs": [],
   "source": [
    "# On récupère les dates et les températures en degrés Celsius dans un nouveau dataframe \n",
    "df_temp_annee <- df[, c(\"Date\", \"Température...C.\")]\n",
    "\n",
    "# On convertit les dates pour ne garder que les années\n",
    "df_temp_annee$Date <- format(as.POSIXct(df$Date, format=\"%Y-%m-%dT%H:%M:%S\", tz=\"UTC\"), \"%Y\")\n",
    "\n",
    "# On néttoie le datframe des Na et des cases vides\n",
    "df_temp_annee <- na.exclude(df_temp_annee)\n",
    "df_temp_annee <- df_temp_annee[df_temp_annee$Date != \"\", ]\n",
    "df_temp_annee <- df_temp_annee[df_temp_annee$Température...C. != \"\", ]\n",
    "\n",
    "# On récupère les moyennes de température de toutes les stations par années\n",
    "df_temp_annee <- aggregate(Température...C. ~ Date , data = df_temp_annee, FUN = mean, na.rm = TRUE)\n",
    "\n",
    "# Comme les années 2015 et 2025 ne sont pac complètent, on les supprime\n",
    "df_temp_annee <- df_temp_annee[!df_temp_annee$Date %in% c(\"2015\", \"2025\"), ]\n",
    "\n",
    "# On trace le graphique de la moyenne de température par année\n",
    "par(bg = \"white\")\n",
    "plot(df_temp_annee$Date, df_temp_annee$Température...C., col = \"blue\", main= \"Graphique de la température moyenne par années\", xlab = 'Années', ylab = \"Température (C°)\")\n"
   ]
  },
  {
   "cell_type": "markdown",
   "id": "171e73b8",
   "metadata": {},
   "source": [
    "On note une augmentation globale de la température moyenne annuelle en France, au fil des années, avec simplement une \"anomalie\" en 2021, où la température est repartie à la baisse, avant d'augmenter à nouveau. On garde tout de même en tête que cette tendance visuelle n'a pour l'instant pas de réalité statistique : c'est l'objet du BE.\n",
    "\n",
    "  \n",
    "On va désormais afficher la moyenne des températures mensuelles à Toulouse."
   ]
  },
  {
   "cell_type": "code",
   "execution_count": null,
   "id": "9e62b80e",
   "metadata": {
    "vscode": {
     "languageId": "r"
    }
   },
   "outputs": [],
   "source": [
    "# On filtre le dataframe uniquement sur Toulouse\n",
    "df_Toulouse <- df[df$communes..name. == \"Blagnac\", ]\n",
    "df_Toulouse <- df[, c(\"mois_de_l_annee\", \"Température...C.\")]\n",
    "\n",
    "# On néttoie le datframe des Na et des cases vides\n",
    "df_Toulouse <- na.exclude(df_Toulouse)\n",
    "df_Toulouse <- df_Toulouse[df_Toulouse$mois_de_l_annee != \"\", ]\n",
    "df_Toulouse <- df_Toulouse[df_Toulouse$Température...C. != \"\", ]\n",
    "\n",
    "# On récupère les moyennes de température de Toulouse par mois\n",
    "df_temp_moi <- aggregate(Température...C. ~ mois_de_l_annee, data = df_Toulouse, FUN = mean, na.rm = TRUE)"
   ]
  },
  {
   "cell_type": "code",
   "execution_count": null,
   "id": "ec683bfe",
   "metadata": {
    "vscode": {
     "languageId": "r"
    }
   },
   "outputs": [],
   "source": [
    "# On trace le graphiques de la moyenne de température par moi sur Toulouse\n",
    "par(bg = \"white\")\n",
    "barplot(names.arg = df_temp_moi$mois_de_l_annee, height = df_temp_moi$Température...C., col = \"blue\", main= \"Distribution de la température moyenne par mois à Toulouse, entre août 2015 et juillet 2025\", xlab = 'Moi', ylab = \"Température (C°)\")\n"
   ]
  },
  {
   "cell_type": "markdown",
   "id": "1963434d",
   "metadata": {},
   "source": [
    "On observe logiquement une augmentation graduelle de la température moyenne à mesure que l'on s'approche de l'été, puis une diminution de cette température à mesure que l'on se rapproche de l'hiver."
   ]
  },
  {
   "cell_type": "markdown",
   "id": "1822841a",
   "metadata": {},
   "source": [
    "## Comparaison entre stations"
   ]
  },
  {
   "cell_type": "markdown",
   "id": "e17fc320",
   "metadata": {},
   "source": [
    "On va désormais s'intéresser aux différences qui peuvent exister entre les stations de ce jeu de données. On va se concentrer sur 3 lieux : une station dans le Sud de la France (située à Blagnac), une station dans le Nord de la France (située à Carpiquet), et une station en Outre-Mer (située à Saint-Laurent-de-Maroni). Le but des visualisations suivantes sera de distinguer les valeurs de certaines variables pour ces 3 stations.  \n",
    "  \n",
    "On se concentre sur l'année 2024 pour ces analyses."
   ]
  },
  {
   "cell_type": "code",
   "execution_count": null,
   "id": "0abaa6e7",
   "metadata": {
    "vscode": {
     "languageId": "r"
    }
   },
   "outputs": [],
   "source": [
    "dt <- as.data.table(df)"
   ]
  },
  {
   "cell_type": "code",
   "execution_count": null,
   "id": "daaae774",
   "metadata": {
    "vscode": {
     "languageId": "r"
    }
   },
   "outputs": [],
   "source": [
    "dt_2024 <- dt[Date >= \"2024-01-01\" & Date <= \"2024-12-31\"]\n",
    "dt_caen_2024 <- dt_2024[communes..name. == \"Carpiquet\"]\n",
    "\n",
    "dim(dt_caen_2024)\n",
    "\n",
    "dt_toulouse_2024 <- dt_2024[communes..name. == \"Blagnac\"]\n",
    "dim(dt_toulouse_2024)\n",
    "\n",
    "dt_guyane_2024 <- dt_2024[communes..name. == \"Saint-Laurent-du-Maroni\"]\n",
    "\n",
    "dim(dt_guyane_2024)\n"
   ]
  },
  {
   "cell_type": "code",
   "execution_count": null,
   "id": "7923d870",
   "metadata": {
    "vscode": {
     "languageId": "r"
    }
   },
   "outputs": [],
   "source": [
    "dt_caen_2024$Date = as.Date(dt_caen_2024$Date)\n",
    "dt_toulouse_2024$Date = as.Date(dt_toulouse_2024$Date)\n",
    "\n",
    "\n",
    "par(bg = \"white\")\n",
    "\n",
    "plot(dt_toulouse_2024$Date[!is.na(dt_toulouse_2024$`Température...C.`)],\n",
    "     dt_toulouse_2024$`Température...C.`[!is.na(dt_toulouse_2024$`Température...C.`)], \n",
    "     type = \"p\",\n",
    "     col = \"blue\",\n",
    "     xlab = \"Date\", \n",
    "     ylab = \"Température (°C)\", \n",
    "     main = \"Évolution de la température à Toulouse sur l'année 2024\")\n",
    "\n",
    "plot(dt_toulouse_2024$Date[!is.na(dt_toulouse_2024$`Humidité`)],\n",
    "     dt_toulouse_2024$`Humidité`[!is.na(dt_toulouse_2024$`Humidité`)], \n",
    "     type = \"p\",\n",
    "     col = \"blue\",\n",
    "     xlab = \"Date\", \n",
    "     ylab = \"Taux d'humidité (%)\", \n",
    "     main = \"Évolution de l'humidité à Toulouse sur l'année 2024\")\n",
    "\n",
    "plot(dt_toulouse_2024$Date[!is.na(dt_toulouse_2024$`Précipitations.dans.les.24.dernières.heures`)],\n",
    "     dt_toulouse_2024$`Précipitations.dans.les.24.dernières.heures`[!is.na(dt_toulouse_2024$`Précipitations.dans.les.24.dernières.heures`)], \n",
    "     type = \"p\",\n",
    "     col = \"blue\",\n",
    "     xlab = \"Date\", \n",
    "     ylab = \"Précipitations dans les dern. 24h (mm)\", \n",
    "     main = \"Évolution des précipitations à Toulouse sur l'année 2024\")\n",
    "\n",
    "plot(dt_caen_2024$Date[!is.na(dt_caen_2024$`Précipitations.dans.les.24.dernières.heures`)],\n",
    "     dt_caen_2024$`Précipitations.dans.les.24.dernières.heures`[!is.na(dt_caen_2024$`Précipitations.dans.les.24.dernières.heures`)], \n",
    "     type = \"p\",\n",
    "     col = \"blue\",\n",
    "     xlab = \"Date\", \n",
    "     ylab = \"Précipitations dans les dern. 24h (mm)\", \n",
    "     main = \"Évolution des précipitations à Caen sur l'année 2024\")"
   ]
  },
  {
   "cell_type": "markdown",
   "id": "fbb74881",
   "metadata": {},
   "source": [
    "Pour ce qui est de la température, on retrouve à Toulouse une tendance semblable à ce qu'on avait vu ci-dessus pour les températures moyennes mensuelles dans l'ensemble de la France. Les données d'humidité, présentées sous forme de pourcentages, sont difficilement lisibles ici. Pour ce qui est des précipitations, on semble bien remarquer qu'il pleut plus souvent à Caen qu'à Toulouse dans l'année."
   ]
  },
  {
   "cell_type": "markdown",
   "id": "ada8aa1d",
   "metadata": {},
   "source": [
    "On va ensuite regarder la répartition des données de température dans chaque mois, pour nos 3 stations d'intérêt, pour essayer de déterminer si les échantillons sont similaires ou non."
   ]
  },
  {
   "cell_type": "code",
   "execution_count": null,
   "id": "1dedbef3",
   "metadata": {
    "vscode": {
     "languageId": "r"
    }
   },
   "outputs": [],
   "source": [
    "par(mfrow = c(1,3), bg = \"white\")\n",
    "boxplot(Température...C. ~ mois_de_l_annee, data = dt_toulouse_2024,col = \"skyblue\",\n",
    "        main = \"Température par mois à Toulouse\",\n",
    "        xlab = \"Mois de l'année\",\n",
    "        ylab = \"Température (°C)\",\n",
    "        ylim = c(0,40))\n",
    "\n",
    "boxplot(Température...C. ~ mois_de_l_annee, data = dt_caen_2024,col = \"skyblue\",\n",
    "        main = \"Température par mois à Caen\",\n",
    "        xlab = \"Mois de l'année\",\n",
    "        ylab = \"Température (°C)\",\n",
    "        ylim = c(0,40))\n",
    "\n",
    "boxplot(Température...C. ~ mois_de_l_annee, data = dt_guyane_2024,col = \"skyblue\",\n",
    "        main = \"Température par mois à Saint-Laurent-du-Maroni\",\n",
    "        xlab = \"Mois de l'année\",\n",
    "        ylab = \"Température (°C)\",\n",
    "        ylim = c(0,40))"
   ]
  },
  {
   "cell_type": "markdown",
   "id": "b4c1abc7",
   "metadata": {},
   "source": [
    "On notera ici que la répartition des températures au sein d'un mois semble suivre la même tendance à Toulouse et à Caen, mais avec des valeurs moyennes légèrement différentes. On pourra s'en servir plus tard lorsque l'on effectuera nos tests d'hypothèses, afin de démontrer que les lois suivies par ces distributions ne possèdent pas les mêmes paramètres.  \n",
    "On notera en revanche qu'au sein d'un mois, l'étalement des données semble toujours à peu près le même (à part pour janvier à Caen).  \n",
    "Pour ce qui est du cas de la Guyane, on note une nette différence dans cette distribution par rapport aux autres, avec une température mensuelle moyenne qui se conserve au cours de l'année. Le climat dans cette région n'est pas du tout comparable avec celui en France métropolitaine, ainsi, il conviendra peut-être d'enlever les données issues de départements d'Outre-Mer lors de certaines analyses pour davantage de cohérence (cf histogrammes suivants)."
   ]
  },
  {
   "cell_type": "code",
   "execution_count": null,
   "id": "b2ceda8c",
   "metadata": {
    "vscode": {
     "languageId": "r"
    }
   },
   "outputs": [],
   "source": [
    "par(mfrow = c(3,1), bg = \"white\")\n",
    "hist(dt_caen_2024$`Température...C.`, xlim = c(0,50), breaks = 50)\n",
    "hist(dt_toulouse_2024$`Température...C.`, xlim = c(0,50), breaks = 50)\n",
    "hist(dt_guyane_2024$`Température...C.`, xlim = c(0,50), breaks = 50)"
   ]
  },
  {
   "cell_type": "code",
   "execution_count": null,
   "id": "1858265c",
   "metadata": {
    "vscode": {
     "languageId": "r"
    }
   },
   "outputs": [],
   "source": [
    "options(repr.plot.width = 16, repr.plot.height = 6)\n",
    "\n",
    "ggplot(dt_2024, aes(x = region..name., y = `Température`)) +\n",
    "  geom_violin(trim = TRUE, fill = \"lightblue\") +\n",
    "  geom_boxplot(width = 0.1, fill = \"white\") +\n",
    "  theme_minimal() +\n",
    "  theme(axis.text.x = element_text(angle = 45, hjust = 1)) +\n",
    "  labs(title = \"Diagramme en violon de la répartition de la température par région en 2024\")"
   ]
  },
  {
   "cell_type": "markdown",
   "id": "95e5b8d5",
   "metadata": {},
   "source": [
    "Le diagramme en violon ci-dessus traduit également cette observation : les départements d'Outre-Mer représentent un échantillon différent que ceux de France métropolitaine."
   ]
  },
  {
   "cell_type": "code",
   "execution_count": null,
   "id": "8f7b9d52",
   "metadata": {
    "vscode": {
     "languageId": "r"
    }
   },
   "outputs": [],
   "source": [
    "par(bg=\"white\")\n",
    "pairs(dt_toulouse_2024[, c(\"Température...C.\", \"Humidité\", \"Précipitations.dans.les.24.dernières.heures\")],\n",
    "      main = \"Pairs plot des variables d'intérêt\")"
   ]
  },
  {
   "cell_type": "markdown",
   "id": "8eb274a2",
   "metadata": {},
   "source": [
    "Lorsque l'on affiche les nuages de points croisés entre la température, l'humidité, et les précipitations sur 24h, on ne semble pas remarquer de corrélation claire pouvant amener à réaliser une régression linéaire. On verra dans la partie dédiée sur quelles variables on pourra observer une corrélation cohérente."
   ]
  },
  {
   "cell_type": "markdown",
   "id": "46bbb00c",
   "metadata": {},
   "source": [
    "# Partie 2 - Etude d'estimateur"
   ]
  },
  {
   "cell_type": "markdown",
   "id": "ab02e26e",
   "metadata": {},
   "source": [
    "On s'intéresse aux estimateurs de moyenne et estimateurs de variance / ecart type de la température moyenne par mois sur l'année 2018 de Toulouse et de la Guyane. On vas ensuite calculer un intervale de confiance et faire un calcule bootstrap pour voire si les estimateur de moyenne sont asytoptiquement normale."
   ]
  },
  {
   "cell_type": "code",
   "execution_count": null,
   "id": "9e003c4d",
   "metadata": {
    "vscode": {
     "languageId": "r"
    }
   },
   "outputs": [],
   "source": [
    "# On filtre le dataframe uniquement sur Toulouse\n",
    "df_Toulouse <- df[df$communes..name. == \"Blagnac\", ]\n",
    "\n",
    "# On convertit les dates pour ne garder que l'année 2018\n",
    "df_Toulouse$Date <- format(as.POSIXct(df_Toulouse$Date, format=\"%Y-%m-%dT%H:%M:%S\", tz=\"UTC\"), \"%Y\")\n",
    "df_Toulouse <- df_Toulouse[df_Toulouse$Date == \"2018\", ]\n",
    "\n",
    "# On récupère les moyennes de température de Toulouse par mois\n",
    "df_temp_moi_toulouse <- aggregate(Température...C. ~ mois_de_l_annee, data = df_Toulouse, FUN = mean, na.rm = TRUE)\n",
    "\n",
    "# On nettoie le dataframe des Na et des cases vides\n",
    "x_temp_Toulouse <- df_temp_moi_toulouse[df_temp_moi_toulouse$Température...C. != \"\", ]$Température...C.\n",
    "x_temp_Toulouse <- na.omit(x_temp_Toulouse)\n",
    "\n",
    "# Calcul de la moyenne empirique\n",
    "n_Toulouse <- length(x_temp_Toulouse)\n",
    "mean_empirique_Toulouse <- mean(x_temp_Toulouse)\n",
    "\n",
    "# Calcul de variance empirique\n",
    "var_empirique_Toulouse <- var(x_temp_Toulouse)\n",
    "# Calcul de l'estimateur de variance sans biais\n",
    "var_empirique_sans_biais_Toulouse <- (n_Toulouse/(n_Toulouse-1)) * var_empirique_Toulouse\n",
    "\n",
    "# Calcul d'un intervalle de confiance avec alpha = 0.05\n",
    "IC_3_min <- mean_empirique_Toulouse - sqrt(var_empirique_sans_biais_Toulouse/(0.05 * n_Toulouse))  \n",
    "IC_3_max <- mean_empirique_Toulouse + sqrt(var_empirique_sans_biais_Toulouse/(0.05 * n_Toulouse))  \n",
    "\n",
    "IC_3_Toulouse <- c(IC_3_min, IC_3_max)\n",
    "\n",
    "cat(\"La moyenne empirique de la Température moyenne de Toulouse par moi sur 2018 est de  :\", signif(mean_empirique_Toulouse,3), \"\\n\")\n",
    "cat(\"L'écart type de la Température moyenne de Toulouse par moi sur 2018 est de  :\", sqrt(var_empirique_Toulouse), \"\\n\")\n",
    "cat(\"L'estimateur sans bias de la variance de la Température moyenne de Toulouse par moi sur 2018 est de  :\", var_empirique_sans_biais_Toulouse, \"\\n\")\n",
    "cat(\"L'intervale de confiance de la moyenne avec un alpha de 5% est de : [\", IC_3_Toulouse[1], \", \", IC_3_Toulouse[2], \"]\")\n",
    "\n",
    "# On vas faire un calcul bootstrap afin de tester le TCL \n",
    "\n",
    "B <- 100  \n",
    "mean_boot_Toulouse <- numeric(B)  \n",
    "\n",
    "set.seed(42) # Pour la répétabilité\n",
    "\n",
    "# On calcule les échantillons Bootstrap et l'estimateur de la moyenne sur chaque\n",
    "mean_boot_Toulouse <- replicate(B, {\n",
    "  X_b <- sample(x_temp_Toulouse, size = n_Toulouse, replace = TRUE)\n",
    "  mean(X_b)                                 \n",
    "})\n",
    "\n",
    "\n",
    "# Calcul de la variable centrée réduite\n",
    "Z_Toulouse <- (mean_boot_Toulouse - mean_empirique_Toulouse) / (sqrt(var_empirique_Toulouse) / sqrt(n_Toulouse))\n",
    "\n",
    "\n",
    "par(bg= \"white\")\n",
    "hist(Z_Toulouse, breaks=30, probability=TRUE, main=\"Distribution centrée et réduite des moyennes bootstrap\", xlab=\"Valeurs centrées et réduites\", col=\"skyblue\")\n",
    "\n",
    "\n",
    "curve(dnorm(x, mean=0, sd=1), add=TRUE, col=\"red\", lwd=2)\n",
    "\n",
    "plot(df_temp_moi_toulouse$mois_de_l_annee, x_temp_Toulouse, main = \"Température moyenne par mois de Toulouse sur 2018\", xlab =\"'Moi de l'années\", ylab = \"Température C°\")"
   ]
  },
  {
   "cell_type": "markdown",
   "id": "e80f1110",
   "metadata": {},
   "source": [
    "On trouve que la moyenne empirique se rapproche beaucoupe d'une moyenne de température d'un pays tempéré, ce qui concorde avec le climat toulousain. De plus, on voit que l'écart-type est de 6°C, cela montre bien que Toulouse possède une météo pouvant descendre bas en hiver et monter haut en été. C'est aussi ce que montre l'intervale de confiance qui est très étendu.  \n",
    "De plus, on voit bien avec le BootStrap que l'estimateur de la moyenne est bien asymptotiquement normal."
   ]
  },
  {
   "cell_type": "markdown",
   "id": "8f05cdf2",
   "metadata": {},
   "source": [
    "On fait l'hypothèse que la distribution de la température moyenne par mois à Toulouse en 2018 suit une loi normale. On souhaite calculer l'estimateur de maximum de vraisemblance afin de trouver la moyenne et l'écart-type."
   ]
  },
  {
   "cell_type": "code",
   "execution_count": null,
   "id": "bfc3d838",
   "metadata": {
    "vscode": {
     "languageId": "r"
    }
   },
   "outputs": [],
   "source": [
    "# On crée des listes pour tester les moyenne et les écart-types qui sont centrés sur une étude graphique\n",
    "mu_list <- seq(12, 17, length.out = 100)\n",
    "sigma_list <- seq(0, 10, length.out = 100) \n",
    "\n",
    "loglik_mat <- matrix(NA, nrow = length(mu_list), ncol = length(sigma_list))\n",
    "\n",
    "# On calcule la vraisemblance pour chaque paire (mu, sigma)\n",
    "for (i in seq_along(mu_list)) {\n",
    "  for (j in seq_along(sigma_list)) {\n",
    "    loglik_mat[i, j] <- sum(dnorm(x_temp_Toulouse, mean = mu_list[i], sd = sigma_list[j], log = TRUE))\n",
    "  }\n",
    "}\n",
    "\n",
    "# On cherche l'indice de la mu_liste et la sigm_liste qui maximise la vraisemblance\n",
    "max_idx <- which(loglik_mat == max(loglik_mat), arr.ind = TRUE)\n",
    "\n",
    "# On récupère la moyenne et l'écart type\n",
    "mu_hat <- mu_list[max_idx[1]]\n",
    "sigma_hat <- sigma_list[max_idx[2]]\n",
    "\n",
    "cat(\"Avec l'estimateur du maximume de vraisemblance, on a m =\", mu_hat, \"et sigma = \", sigma_hat )"
   ]
  },
  {
   "cell_type": "markdown",
   "id": "537dd9f6",
   "metadata": {},
   "source": [
    "# Ajouter un equart relatife entre max vraisemblence et estimatuer empirique"
   ]
  },
  {
   "cell_type": "markdown",
   "id": "318970d8",
   "metadata": {},
   "source": [
    "L'estimateur du maximum de vraisemblance donne des calculs de moyenne et d'écart-type très proches de la moyenne empirique et de l'écart-type empirique, ce qui est satisfaisant."
   ]
  },
  {
   "cell_type": "code",
   "execution_count": null,
   "id": "5ff129cf",
   "metadata": {
    "vscode": {
     "languageId": "r"
    }
   },
   "outputs": [],
   "source": [
    "# On filtre le dataframe uniquement sur la Guyane\n",
    "df_Guyane <- df[df$department..name. == \"Guyane\", ]\n",
    "\n",
    "# On convertit les dates pour ne garder que l'année 2018\n",
    "df_Guyane$Date <- format(as.POSIXct(df_Guyane$Date, format=\"%Y-%m-%dT%H:%M:%S\", tz=\"UTC\"), \"%Y\")\n",
    "df_Guyane <- df_Guyane[df_Guyane$Date == \"2018\", ]\n",
    "\n",
    "# On récupère les moyennes de température de la Guyane par mois\n",
    "df_temp_moi_Guyane <- aggregate(Température...C. ~ mois_de_l_annee, data = df_Guyane, FUN = mean, na.rm = TRUE)\n",
    "\n",
    "# On nettoie le dataframe des Na et des cases vides\n",
    "x_temp_Guyanne <- df_temp_moi_Guyane[df_temp_moi_Guyane$Température...C. != \"\", ]$Température...C.\n",
    "x_temp_Guyanne <- na.omit(x_temp_Guyanne)\n",
    "\n",
    "# Calcul de la moyenne empirique\n",
    "n_Guyanne <- length(x_temp_Guyanne)\n",
    "mean_empirique_Guyanne <- mean(x_temp_Guyanne)\n",
    "\n",
    "# Calcul de variacne empirique\n",
    "var_empirique_Guyanne <- var(x_temp_Guyanne) \n",
    "# calcul de l'estimateur de variance sans biais\n",
    "var_empirique_sans_biais_Guyanne <- (n_Guyanne/(n_Guyanne-1)) * var(x_temp_Guyanne)\n",
    "\n",
    "# Calcul d'un intervalle de confiance avec alpha = 0.05\n",
    "IC_3_min <- mean_empirique_Guyanne - sqrt(var_empirique_Guyanne/(0.05 * n_Guyanne))  \n",
    "IC_3_max <- mean_empirique_Guyanne + sqrt(var_empirique_Guyanne/(0.05 * n_Guyanne))  \n",
    "\n",
    "IC_3_Guyanne <- c(IC_3_min, IC_3_max)\n",
    "\n",
    "\n",
    "cat(\"La moyenne empirique de la Température moyenne de Guyane par mois sur 2018 est de  :\", mean_empirique_Guyanne, '\\n')\n",
    "cat(\"La variance empirique de la Température moyenne de Guyane par mois sur 2018 est de  :\", var_empirique_Guyanne, '\\n')\n",
    "cat(\"L'estimateur sans biais de la variance de la Température moyenne de Guyane par mois sur 2018 est de  :\", var_empirique_sans_biais_Guyanne, '\\n')\n",
    "cat(\"L'intervale de confiance de la moyenne avec un alpha de 5% est de : [\", IC_3_Guyanne[0], \", \", IC_3_Guyanne[1], \"]\")\n",
    "\n",
    "\n",
    "# On vas faire un calcul bootstrap afin de tester le TCL \n",
    "\n",
    "B <- 100  \n",
    "mean_boot_Guyanne <- numeric(B)  \n",
    "\n",
    "set.seed(42) # Pour la répétabilité\n",
    "\n",
    "# On calcule les échantillons Bootstrap et l'estimateur de la moyenne sur chaque\n",
    "mean_boot_Guyanne <- replicate(B, {\n",
    "  X_b <- sample(x_temp_Guyanne, size = n, replace = TRUE)\n",
    "  mean(X_b)                                 \n",
    "})\n",
    "  \n",
    "# Calcul de la variable centrée réduite\n",
    "Z_Guyanne <- (mean_boot_Guyanne - mean_empirique_Guyanne) / (sqrt(var_empirique_Guyanne) / sqrt(n_Guyanne))\n",
    "\n",
    "\n",
    "par(bg= \"white\")\n",
    "hist(Z_Guyanne, breaks=30, probability=TRUE, main=\"Distribution centrée et réduite des moyennes bootstrap\", xlab=\"Valeurs centrées et réduites\", col=\"skyblue\")\n",
    "\n",
    "\n",
    "curve(dnorm(x, mean=0, sd=1), add=TRUE, col=\"red\", lwd=2)"
   ]
  },
  {
   "cell_type": "markdown",
   "id": "a21412d2",
   "metadata": {},
   "source": [
    "On trouve que la moyenne empirique est de 26°C ce qui colle avec la Guyane, ayant une météo tropicale. De plus, on voit que l'écart-type est très faible, caractéristique des région équatoriales. C'est aussi ce que montre l'intervalle de confiance qui est très serré.  \n",
    "De plus, on voit bien avec le BootStrap que l'éstimateur de la moyenne est bien asymptotiquement normale."
   ]
  },
  {
   "cell_type": "markdown",
   "id": "2961ebc1",
   "metadata": {},
   "source": [
    "# Partie 3 - Test Statistique"
   ]
  },
  {
   "cell_type": "markdown",
   "id": "4a8e8276",
   "metadata": {},
   "source": [
    "### Test d'égalité des moyennes"
   ]
  },
  {
   "cell_type": "markdown",
   "id": "1dfcf1e1",
   "metadata": {},
   "source": [
    "POur poursuivre la recherche de significativité statistiques dans nos observations, on cherche à savoir si la température moyenne de 2024 est différente de celle de 2016. Cela nous donnerait une première indication sur la significativité du réchauffement constaté en première partie.\n",
    "\n",
    "\n",
    "Pour cela, on pose l’hypothèse nulle (H₀) : les deux moyennes sont égales, et l’hypothèse alternative (H₁) : elles diffèrent. On va réaliser un test de Student\n",
    "\n",
    "Le test t de Student repose sur plusieurs hypothèses :\n",
    "\n",
    "- Les échantillons sont indépendants,\n",
    "\n",
    "- Les distributions de températures sont approximativement normales\n"
   ]
  },
  {
   "cell_type": "code",
   "execution_count": 5,
   "id": "143f27b7",
   "metadata": {
    "vscode": {
     "languageId": "r"
    }
   },
   "outputs": [
    {
     "name": "stdout",
     "output_type": "stream",
     "text": [
      "\n",
      "\tWelch Two Sample t-test\n",
      "\n",
      "data:  x and y\n",
      "t = -37.991, df = 335116, p-value < 2.2e-16\n",
      "alternative hypothesis: true difference in means is not equal to 0\n",
      "95 percent confidence interval:\n",
      " -1.271920 -1.147119\n",
      "sample estimates:\n",
      "mean of x mean of y \n",
      " 14.48988  15.69940 \n",
      "\n"
     ]
    }
   ],
   "source": [
    "df_test <- df\n",
    "df_test$Date <- as.Date(df_test$Date)\n",
    "\n",
    "# On récupère les températures de 2016 et 2024\n",
    "x <- subset(df_test, format(Date, \"%Y\") == \"2016\", select = c(\"Température...C.\"))\n",
    "# x <- aggregate(Température...C. ~ mois_de_l_annee, data = x, FUN = mean, na.rm = TRUE)\n",
    "x <- x[x$Température...C. != \"\", ]\n",
    "x <- na.omit(x)\n",
    "\n",
    "y <- subset(df_test, format(Date, \"%Y\") == \"2024\", select = c(\"Température...C.\"))\n",
    "# y <- aggregate(Température...C. ~ mois_de_l_annee, data = y, FUN = mean, na.rm = TRUE)\n",
    "y <- y[y$Température...C. != \"\", ]\n",
    "y <- na.omit(y)\n",
    "\n",
    "# Test de comparaison des moyennes\n",
    "resultat_test <- t.test(x, y, var.equal=FALSE)\n",
    "\n",
    "print(resultat_test)"
   ]
  },
  {
   "cell_type": "markdown",
   "id": "54e84b6e",
   "metadata": {},
   "source": [
    "La p-value obtenue (< 2.2e-16) est largement inférieure au seuil de 0,05. On rejette donc l’hypothèse nulle (H₀) : la différence entre les moyennes est statistiquement significative.\n",
    "\n",
    "En 2024, la température moyenne (≈ 15,70 °C) est supérieure d’environ 1,2 °C à celle de 2016 (≈ 14,49 °C)."
   ]
  },
  {
   "cell_type": "markdown",
   "id": "1b76c4ec",
   "metadata": {},
   "source": [
    "## Test ANOVA"
   ]
  },
  {
   "cell_type": "markdown",
   "id": "ce9023bc",
   "metadata": {},
   "source": [
    "On cherche à savoir si les moyenne des températures par mois sur chaque année à Toulouse sont les mêmes. Pour ce faire, on vas utiliser un test ANOVA. Notre hypothèse H0 est que les moyennes sont les mêmes et l'hypothèse H1 est qu'elles sont différentes. Notre but est de montrer que les moyennes ne sont plus les mêmes d'année en année, on pourrait alors entrevoir un déréglement des températures (sans surinterpréter nos résultats)."
   ]
  },
  {
   "cell_type": "code",
   "execution_count": null,
   "id": "0a58905e",
   "metadata": {
    "vscode": {
     "languageId": "r"
    }
   },
   "outputs": [],
   "source": [
    "# On filtre le dataframe uniquement sur Toulouse\n",
    "df_Toulouse_test <- df[df$communes..name. == \"Blagnac\", ]\n",
    "\n",
    "# On récupère les date et les températures en degrés Celsius \n",
    "df_Toulouse_test_reduced <- df_Toulouse_test[, c(\"Date\", \"Température...C.\", 'mois_de_l_annee')]\n",
    "\n",
    "# On convertie les dates pour ne garder que les années\n",
    "df_Toulouse_test_reduced$Date <- format(as.POSIXct(df_Toulouse_test_reduced$Date, format=\"%Y-%m-%dT%H:%M:%S\", tz=\"UTC\"), \"%Y\")\n",
    "\n",
    "# On néttoie le datframe des Na et des cases vides\n",
    "df_Toulouse_test_reduced <- na.exclude(df_Toulouse_test_reduced)\n",
    "df_Toulouse_test_reduced <- df_Toulouse_test_reduced[df_Toulouse_test_reduced$Date != \"\", ]\n",
    "df_Toulouse_test_reduced <- df_Toulouse_test_reduced[df_Toulouse_test_reduced$Température...C. != \"\", ]\n",
    "df_Toulouse_test_reduced <- aggregate(Température...C. ~ Date + mois_de_l_annee, data = df_Toulouse_test_reduced, FUN = mean, na.rm = TRUE)\n",
    "# Calcule de l'ANOVA\n",
    "model_année_temp <- aov(Température...C. ~ Date, data= df_Toulouse_test_reduced)\n",
    "\n",
    "print(summary(model_année_temp))"
   ]
  },
  {
   "cell_type": "markdown",
   "id": "c9419787",
   "metadata": {},
   "source": [
    "L’ANOVA sur les températures moyennes mensuelles à Blagnac (F = 0.154, p = 0.999) conduit à ne pas rejeter H₀ : aucune différence significative entre années n’est détectée. L’agrégation par mois réduit la puissance statistique, rendant la détection plus difficile. \n",
    "\n",
    "Pour mettre en évidence avec une significativité statistique l’effet du changement climatique à cette échelle, il faudrait soit plus d’années de données, soit une méthode d’analyse plus adaptée (ex. régression temporelle)."
   ]
  },
  {
   "cell_type": "markdown",
   "id": "6524bcae",
   "metadata": {},
   "source": [
    "## Test de normalité - Shapiro Wilk\n",
    "\n",
    "On va chercher à savoir si une des variables que l'on maîtrise possède une distribution se rapprochant d'une loi normale. On va donc procéder à un test de Shapiro-Wilk, sur la distribution de pression en 2024 à Toulouse (cf histogramme ci-dessous), dont la répartition semble se rapprocher d'une normale."
   ]
  },
  {
   "cell_type": "code",
   "execution_count": null,
   "id": "8003b90b",
   "metadata": {
    "vscode": {
     "languageId": "r"
    }
   },
   "outputs": [],
   "source": [
    "par(bg=\"white\")\n",
    "hist(dt_toulouse_2024$Pression.station, breaks = 50)"
   ]
  },
  {
   "cell_type": "code",
   "execution_count": null,
   "id": "5dc6268a",
   "metadata": {
    "vscode": {
     "languageId": "r"
    }
   },
   "outputs": [],
   "source": [
    "dim(dt_toulouse_2024)\n",
    "shapiro.test(dt_toulouse_2024$Pression.station)"
   ]
  },
  {
   "cell_type": "markdown",
   "id": "05130101",
   "metadata": {},
   "source": [
    "Le test nous rend une p-value très proche de 0, l'hypothèse de normalité est donc rejetée ici. Cela peut s'expliquer par le fait que, même si l'on s'est restreint à une ville et une année, le nombre de points reste très important (2918 points), ainsi le moindre écart entre les données et une loi normale fait plonger la p-value. Ainsi, on ne pourra pas estimer à l'aide de ce test que la pression suit une loi normale."
   ]
  },
  {
   "cell_type": "code",
   "execution_count": null,
   "id": "1f873520",
   "metadata": {
    "vscode": {
     "languageId": "r"
    }
   },
   "outputs": [],
   "source": [
    "dt_toulouse_juillet_2024 <- dt_toulouse_2024[mois_de_l_annee == '7']\n",
    "dim(dt_toulouse_juillet_2024)\n",
    "par(bg = \"white\")\n",
    "hist(dt_toulouse_juillet_2024$`Température...C.`, xlim = c(0,40), breaks = 50)"
   ]
  },
  {
   "cell_type": "markdown",
   "id": "d81467be",
   "metadata": {},
   "source": [
    "# Partie 4"
   ]
  },
  {
   "cell_type": "markdown",
   "id": "b7c19660",
   "metadata": {},
   "source": [
    "## Etude de correlation\n",
    "\n",
    "Pour observer nos données sous un autre angle, on regarde les coefficients de Pearson entre différentes variables "
   ]
  },
  {
   "cell_type": "code",
   "execution_count": null,
   "id": "1c44f223",
   "metadata": {
    "vscode": {
     "languageId": "r"
    }
   },
   "outputs": [],
   "source": [
    "columns <- c('Latitude', 'Longitude', 'Altitude', 'Température...C.', 'Pression.station')\n",
    "\n",
    "df_pos_temp <- df[, columns]\n",
    "df_pos_temp <- na.exclude(df_pos_temp)\n",
    "\n",
    "cor(df_pos_temp, method = \"pearson\", use=\"pairwise.complete.obs\")\n",
    "cor_person <- cor(df_pos_temp)\n",
    "\n",
    "par(bg = \"white\")\n",
    "corrplot(cor_person, method = \"color\")"
   ]
  },
  {
   "cell_type": "markdown",
   "id": "7fa77d92",
   "metadata": {},
   "source": [
    "## Regression Température = f (Année)\n",
    "On fait une régression linéaire sur les températures moyennes annuelles (après nettoyage des données et exclusion des années 2015 et 2025 qui sont incomplètes) afin d’analyser la tendance de leur évolution au fil du temps."
   ]
  },
  {
   "cell_type": "code",
   "execution_count": 49,
   "id": "ecc926a9",
   "metadata": {
    "vscode": {
     "languageId": "r"
    }
   },
   "outputs": [
    {
     "name": "stderr",
     "output_type": "stream",
     "text": [
      "Warning message in cbind(parts$left, chars$ellip_h, parts$right, deparse.level = 0L):\n",
      "“number of rows of result is not a multiple of vector length (arg 2)”\n",
      "Warning message in cbind(parts$left, chars$ellip_h, parts$right, deparse.level = 0L):\n",
      "“number of rows of result is not a multiple of vector length (arg 2)”\n",
      "Warning message in cbind(parts$left, chars$ellip_h, parts$right, deparse.level = 0L):\n",
      "“number of rows of result is not a multiple of vector length (arg 2)”\n",
      "Warning message in cbind(parts$left, chars$ellip_h, parts$right, deparse.level = 0L):\n",
      "“number of rows of result is not a multiple of vector length (arg 2)”\n"
     ]
    },
    {
     "data": {
      "text/html": [
       "<table class=\"dataframe\">\n",
       "<caption>A data.frame: 0 × 82</caption>\n",
       "<thead>\n",
       "\t<tr><th scope=col>ID.OMM.station</th><th scope=col>Date</th><th scope=col>Pression.au.niveau.mer</th><th scope=col>Variation.de.pression.en.3.heures</th><th scope=col>Type.de.tendance.barométrique</th><th scope=col>Direction.du.vent.moyen.10.mn</th><th scope=col>Vitesse.du.vent.moyen.10.mn</th><th scope=col>Température</th><th scope=col>Point.de.rosée</th><th scope=col>Humidité</th><th scope=col>⋯</th><th scope=col>Altitude</th><th scope=col>communes..name.</th><th scope=col>communes..code.</th><th scope=col>EPCI..name.</th><th scope=col>EPCI..code.</th><th scope=col>department..name.</th><th scope=col>department..code.</th><th scope=col>region..name.</th><th scope=col>region..code.</th><th scope=col>mois_de_l_annee</th></tr>\n",
       "\t<tr><th scope=col>&lt;int&gt;</th><th scope=col>&lt;chr&gt;</th><th scope=col>&lt;int&gt;</th><th scope=col>&lt;dbl&gt;</th><th scope=col>&lt;int&gt;</th><th scope=col>&lt;int&gt;</th><th scope=col>&lt;dbl&gt;</th><th scope=col>&lt;dbl&gt;</th><th scope=col>&lt;dbl&gt;</th><th scope=col>&lt;int&gt;</th><th scope=col>⋯</th><th scope=col>&lt;int&gt;</th><th scope=col>&lt;chr&gt;</th><th scope=col>&lt;chr&gt;</th><th scope=col>&lt;chr&gt;</th><th scope=col>&lt;int&gt;</th><th scope=col>&lt;chr&gt;</th><th scope=col>&lt;chr&gt;</th><th scope=col>&lt;chr&gt;</th><th scope=col>&lt;int&gt;</th><th scope=col>&lt;int&gt;</th></tr>\n",
       "</thead>\n",
       "<tbody>\n",
       "</tbody>\n",
       "</table>\n"
      ],
      "text/latex": [
       "A data.frame: 0 × 82\n",
       "\\begin{tabular}{lllllllllllllllllllll}\n",
       " ID.OMM.station & Date & Pression.au.niveau.mer & Variation.de.pression.en.3.heures & Type.de.tendance.barométrique & Direction.du.vent.moyen.10.mn & Vitesse.du.vent.moyen.10.mn & Température & Point.de.rosée & Humidité & ⋯ & Altitude & communes..name. & communes..code. & EPCI..name. & EPCI..code. & department..name. & department..code. & region..name. & region..code. & mois\\_de\\_l\\_annee\\\\\n",
       " <int> & <chr> & <int> & <dbl> & <int> & <int> & <dbl> & <dbl> & <dbl> & <int> & ⋯ & <int> & <chr> & <chr> & <chr> & <int> & <chr> & <chr> & <chr> & <int> & <int>\\\\\n",
       "\\hline\n",
       "\\end{tabular}\n"
      ],
      "text/markdown": [
       "\n",
       "A data.frame: 0 × 82\n",
       "\n",
       "| ID.OMM.station &lt;int&gt; | Date &lt;chr&gt; | Pression.au.niveau.mer &lt;int&gt; | Variation.de.pression.en.3.heures &lt;dbl&gt; | Type.de.tendance.barométrique &lt;int&gt; | Direction.du.vent.moyen.10.mn &lt;int&gt; | Vitesse.du.vent.moyen.10.mn &lt;dbl&gt; | Température &lt;dbl&gt; | Point.de.rosée &lt;dbl&gt; | Humidité &lt;int&gt; | ⋯ ⋯ | Altitude &lt;int&gt; | communes..name. &lt;chr&gt; | communes..code. &lt;chr&gt; | EPCI..name. &lt;chr&gt; | EPCI..code. &lt;int&gt; | department..name. &lt;chr&gt; | department..code. &lt;chr&gt; | region..name. &lt;chr&gt; | region..code. &lt;int&gt; | mois_de_l_annee &lt;int&gt; |\n",
       "|---|---|---|---|---|---|---|---|---|---|---|---|---|---|---|---|---|---|---|---|---|\n",
       "\n"
      ],
      "text/plain": [
       "     ID.OMM.station Date Pression.au.niveau.mer\n",
       "     Variation.de.pression.en.3.heures Type.de.tendance.barométrique\n",
       "     Direction.du.vent.moyen.10.mn Vitesse.du.vent.moyen.10.mn Température\n",
       "     Point.de.rosée Humidité ⋯ Altitude communes..name. communes..code.\n",
       "     EPCI..name. EPCI..code. department..name. department..code. region..name.\n",
       "     region..code. mois_de_l_annee"
      ]
     },
     "metadata": {},
     "output_type": "display_data"
    },
    {
     "name": "stderr",
     "output_type": "stream",
     "text": [
      "Warning message:\n",
      "“Pas assez de données dans df_subset pour ajuster une régression linéaire.”\n"
     ]
    }
   ],
   "source": [
    "# Renommer la colonne Date en Datetime\n",
    "df_test <- df\n",
    "\n",
    "# Filtrage des lignes valides\n",
    "df_test <- df_test[!is.na(df_test$Température) & !is.na(df_test$Date), ]\n",
    "\n",
    "start <- as.POSIXct(\"2025-01-01 12:00:00\", tz = \"UTC\")\n",
    "end   <- as.POSIXct(\"2025-01-01 12:59:59\", tz = \"UTC\")\n",
    "\n",
    "df_subset <- df_test[df_test$Date >= start & df_test$Date <= end, ]\n",
    "\n",
    "df_subset\n",
    "\n",
    "\n",
    "# Régression linéaire uniquement si le sous-ensemble contient assez de données\n",
    "if (nrow(df_subset) > 1) {\n",
    "  model_trend <- lm(Température...C. ~ Altitude, data = df_subset)\n",
    "  print(summary(model_trend))\n",
    "  \n",
    "  # Graphique\n",
    "  par(bg = \"white\")\n",
    "  plot(\n",
    "    df_subset$Altitude, df_subset$Température...C.,\n",
    "    main = \"Température vs Altitude (1er janvier 2025, 12h)\",\n",
    "    xlab = \"Altitude (m)\", ylab = \"Température (°C)\",\n",
    "    pch = 19, col = \"darkblue\"\n",
    "  )\n",
    "  abline(model_trend, col = \"red\", lwd = 2)\n",
    "  \n",
    "  legend(\"topright\",\n",
    "         legend = c(\"Données observées\", \"Régression linéaire\"),\n",
    "         col = c(\"darkblue\", \"red\"),\n",
    "         pch = c(19, NA),\n",
    "         lty = c(NA, 1),\n",
    "         lwd = c(NA, 2))\n",
    "} else {\n",
    "  warning(\"Pas assez de données dans df_subset pour ajuster une régression linéaire.\")\n",
    "}\n"
   ]
  },
  {
   "cell_type": "markdown",
   "id": "43880b79",
   "metadata": {},
   "source": [
    "Le R² de 0.53 indique que le modèle n'a pas capturé toute la variabilité des données. Pour autant, le test de Fisher inclut dans l'implémentation de lm, qui compare notre regression à un modèle constant obtient un résultat (p = 0,015) qui confirme un lien significatif entre l’année et la température moyenne annuelle en France, mettant en évidence une tendance à la hausse."
   ]
  },
  {
   "cell_type": "markdown",
   "id": "670f352f",
   "metadata": {},
   "source": [
    "### Regression Pression = f(température)"
   ]
  },
  {
   "cell_type": "code",
   "execution_count": 8,
   "id": "55aca3d3",
   "metadata": {
    "vscode": {
     "languageId": "r"
    }
   },
   "outputs": [
    {
     "data": {
      "text/plain": [
       "\n",
       "Call:\n",
       "lm(formula = Pression.station ~ Altitude, data = df)\n",
       "\n",
       "Residuals:\n",
       "    Min      1Q  Median      3Q     Max \n",
       "-7641.9  -357.8    40.6   490.3  5820.2 \n",
       "\n",
       "Coefficients:\n",
       "              Estimate Std. Error t value Pr(>|t|)    \n",
       "(Intercept)  1.014e+05  8.347e-01  121532   <2e-16 ***\n",
       "Altitude    -1.105e+01  3.584e-03   -3083   <2e-16 ***\n",
       "---\n",
       "Signif. codes:  0 ‘***’ 0.001 ‘**’ 0.01 ‘*’ 0.05 ‘.’ 0.1 ‘ ’ 1\n",
       "\n",
       "Residual standard error: 888.5 on 1685989 degrees of freedom\n",
       "  (33576 observations effacées parce que manquantes)\n",
       "Multiple R-squared:  0.8493,\tAdjusted R-squared:  0.8493 \n",
       "F-statistic: 9.503e+06 on 1 and 1685989 DF,  p-value: < 2.2e-16\n"
      ]
     },
     "metadata": {},
     "output_type": "display_data"
    },
    {
     "data": {
      "image/png": "[encoded data removed]",
      "text/plain": [
       "Plot with title “Température vs Altitude (1er janvier 2025, 12h)”"
      ]
     },
     "metadata": {
      "image/png": {
       "height": 360,
       "width": 720
      }
     },
     "output_type": "display_data"
    }
   ],
   "source": [
    "# Régression linéaire\n",
    "model_trend <- lm(Pression.station ~ Altitude, data = df)\n",
    "summary(model_trend)\n",
    "\n",
    "par(bg = \"white\")\n",
    "\n",
    "plot(\n",
    "  df$Altitude, df$Température...C.,\n",
    "  main = \"Température vs Altitude (1er janvier 2025, 12h)\",\n",
    "  xlab = \"Altitude (m)\", ylab = \"Température (°C)\",\n",
    "  pch = 19, col = \"darkblue\"\n",
    ")\n",
    "abline(model_trend, col = \"red\", lwd = 2)\n",
    "\n",
    "legend(\"topright\",\n",
    "       legend = c(\"Données observées\", \"Régression linéaire\"),\n",
    "       col = c(\"darkblue\", \"red\"), pch = c(19, NA), lty = c(NA, 1), lwd = c(NA, 2))\n"
   ]
  },
  {
   "cell_type": "markdown",
   "id": "5a61bfa7",
   "metadata": {},
   "source": [
    "### Lasso"
   ]
  },
  {
   "cell_type": "code",
   "execution_count": null,
   "id": "d9be891b",
   "metadata": {
    "vscode": {
     "languageId": "r"
    }
   },
   "outputs": [],
   "source": [
    "cols_basics <- c(\n",
    "  \"Pression.au.niveau.mer\",\n",
    "  \"Direction.du.vent.moyen.10.mn\",\n",
    "  \"Vitesse.du.vent.moyen.10.mn\",\n",
    "  \"Température\",\n",
    "  \"Humidité\",\n",
    "  \"Visibilité.horizontale\",\n",
    "  \"Pression.station\",\n",
    "  \"Rafale.sur.les.10.dernières.minutes\",\n",
    "  \"Altitude\",\n",
    "  \"Précipitations.dans.les.3.dernières.heures\"\n",
    ")\n",
    "\n",
    "# Sous-dataframe\n",
    "df_sub <- df[, cols_basics]\n",
    "\n",
    "# Conversion en numérique + nettoyage\n",
    "df_sub <- data.frame(lapply(df_sub, function(x) as.numeric(as.character(x))))\n",
    "df_sub <- na.omit(df_sub)\n",
    "\n",
    "# Variables explicatives (X) et cible (y)\n",
    "X <- as.matrix(df_sub[, !names(df_sub) %in% \"Précipitations.dans.les.3.dernières.heures\"])\n",
    "y <- df_sub$Précipitations.dans.les.3.dernières.heures\n",
    "\n",
    "# LASSO\n",
    "model_lasso <- lars(X, y, type = \"lasso\")\n",
    "\n",
    "# Validation croisée k-fold (par défaut K=10, tu peux changer)\n",
    "set.seed(123)  # reproductibilité\n",
    "cv_lasso <- cv.lars(X, y, K = 10, type = \"lasso\")\n",
    "\n",
    "# Plot des erreurs de CV\n",
    "plot(cv_lasso$cv, type = \"o\", pch = 19, col = \"darkblue\",\n",
    "     main = \"Erreur de validation croisée (10-fold) pour LASSO\",\n",
    "     xlab = \"Complexité du modèle (step)\",\n",
    "     ylab = \"Erreur moyenne de prédiction\")\n",
    "points(which.min(cv_lasso$cv), min(cv_lasso$cv), col = \"red\", pch = 19, cex = 1.5)\n",
    "legend(\"topright\", legend = c(\"Erreur CV\", \"Modèle optimal\"), \n",
    "       col = c(\"darkblue\", \"red\"), pch = 19)\n",
    "\n",
    "summary(model_lasso)\n"
   ]
  },
  {
   "cell_type": "markdown",
   "id": "36537397",
   "metadata": {},
   "source": [
    "## Partie 5 : ACP et PLS"
   ]
  },
  {
   "cell_type": "markdown",
   "id": "158790fd",
   "metadata": {},
   "source": [
    "### ACP"
   ]
  },
  {
   "cell_type": "markdown",
   "id": "5139936c",
   "metadata": {},
   "source": [
    "On va procéder à une ACP sur un extrait de notre jeu de données, afin de visualiser davantage où se placent certaines stations concernant plusieurs variables. Les variables que nous allons considérer sont les valeurs moyennes annuelles, pour chaque station, des données suivantes : vitesse du vent moyen sur 10 minutes, humidité, pression de la station, température, et précipitations dans les 3 dernières heures."
   ]
  },
  {
   "cell_type": "markdown",
   "id": "6b53add0",
   "metadata": {},
   "source": [
    "### ACP Octave"
   ]
  },
  {
   "cell_type": "code",
   "execution_count": null,
   "id": "cc223b16",
   "metadata": {
    "vscode": {
     "languageId": "r"
    }
   },
   "outputs": [],
   "source": [
    "variables_acp = c('communes..name.','Vitesse.du.vent.moyen.10.mn','Humidité','Pression.station', 'Température...C.',\n",
    "'Précipitations.dans.les.3.dernières.heures')"
   ]
  },
  {
   "cell_type": "code",
   "execution_count": null,
   "id": "7023289a",
   "metadata": {
    "vscode": {
     "languageId": "r"
    }
   },
   "outputs": [],
   "source": [
    "dt_2024$Annee <- format(as.Date(dt_2024$Date), \"%Y\")\n",
    "\n",
    "# On filtre notre dataframe sur les variables souhaitées\n",
    "df_acp <- as.data.frame(dt_2024[, ..variables_acp])\n",
    "\n",
    "# On nettoie le dataframe\n",
    "df_acp <- df_acp[df_acp$communes..name. != \"\", ]\n",
    "df_acp <- df_acp[df_acp$Température...C. != \"\", ]\n",
    "df_acp <- df_acp[df_acp$Vitesse.du.vent.moyen.10.mn != \"\", ]\n",
    "df_acp <- df_acp[df_acp$Humidité != \"\", ]\n",
    "df_acp <- df_acp[df_acp$Pression.station != \"\", ]\n",
    "df_acp <- df_acp[df_acp$Précipitations.dans.les.3.dernières.heures != \"\", ]\n",
    "\n",
    "df_acp <- na.omit(df_acp)\n",
    "\n",
    "# On calcule la moyenne sur les communes de chaque variable et on passe le nom des communes en nom de ligne\n",
    "df_acp <- aggregate(. ~ communes..name., data = df_acp, FUN = mean)\n",
    "\n",
    "df_acp <- as.data.frame(df_acp) \n",
    "rownames(df_acp) <- df_acp$communes..name.\n",
    "df_acp$communes..name.<- NULL\n",
    "\n",
    "head(df_acp)"
   ]
  },
  {
   "cell_type": "markdown",
   "id": "e8216e82",
   "metadata": {},
   "source": [
    "Une fois le dataframe contenant les valeurs moyennes annuelles formé, on peut réaliser l'ACP de ces données, et les représenter sur un graphique avec d'une part, les directions des différentes variables concernées dans le plan principal de l'ACP, et d'autre part, les positions des différentes stations dans ce plan."
   ]
  },
  {
   "cell_type": "code",
   "execution_count": null,
   "id": "b67d4869",
   "metadata": {
    "vscode": {
     "languageId": "r"
    }
   },
   "outputs": [],
   "source": [
    "acp <- prcomp(df_acp, center = TRUE, scale. = TRUE)\n",
    "par(bg = \"white\")\n",
    "autoplot(acp, data = df_acp,\n",
    "         colour = NA,        \n",
    "         loadings = TRUE,\n",
    "         loadings.label = TRUE) +\n",
    "  geom_point(size = 3, color = \"blue\") +\n",
    "  geom_text_repel(aes(label = rownames(df_acp)), size = 3)"
   ]
  },
  {
   "cell_type": "markdown",
   "id": "ff84c24b",
   "metadata": {},
   "source": [
    "On note tout d'abord les directions indiquées par les variables originelles dans notre plan principal : les précipitations et l'humidité pointent tous deux vers en haut à gauche du graphique, tandis que la vitesse du vent pointe en bas à droite, et la température et la pression pointent vers en bas à gauche. On note donc des influences différentes de chaque variable au sein de notre plan principal.  \n",
    "  \n",
    "On note aussi les pourcentages d'inertie des deux composantes principales de notre modèle, en les sommant on arrive à une part d'inertie de 63,81 %, qui n'est pas idéale mais reste satisfaisante (environ 2/3 des informations des valeurs propres de la matrice de corrélation sont contenues dans les 2 considérées ici).  \n",
    "  \n",
    "\n",
    "On peut maintenant s'intéresser à la position des différents points dans notre plan principal. Les points situés dans le coin supérieur droit de notre graphique correspondent aux stations d'Embrun et de Chaspuzac, qui sont tous deux situés en montagne. Ce sont sûrement parmi les points d'altitude la plus élevée parmi les stations considérées. Ainsi, il paraît logique que ce soient ceux ayant la pression moyenne la plus faible, comme observé sur l'ACP (ils sont à l'opposé de la direction donnée par la pression de la station).  \n",
    "  \n",
    "Les 4 points situés dans le coin supérieur gauche de l'ACP sont des points de stations situées en Guyane, où le climat équatorial est très humide et comporte de nombreuses pluies diluviennes. Il est donc également logique de les voir situés dans cette zone de l'ACP.  \n",
    "  \n",
    "Enfin, on pourra également noter le point représentant l'archipel des Kerguelen (situé en pleine mer), forcément sujet à beaucoup plus de vent que les autres.  \n",
    "  \n",
    "Les résultats de l'ACP semblent donc logique. On peut terminer cette section en se demandant s'il n'aurait pas été plus judicieux de choisir d'autres variables à mettre en évidence, car il y a tout de même une grosse zone centrale où sont la plupart des points. Où alors il aurait peut-être fallu exclure les valeurs extrêmes (les stations d'Outre-Mer), puisque l'on savait déjà que le climat n'était pas le même."
   ]
  },
  {
   "cell_type": "markdown",
   "id": "264664ca",
   "metadata": {},
   "source": [
    "## PLS - to be continued\n"
   ]
  },
  {
   "cell_type": "markdown",
   "id": "da0451ee",
   "metadata": {},
   "source": [
    "On va faire le calcul de la PLS en regardant le même dataframe, mais, cette fois-ci, on veut regarder le lien entre toute les variables et les précipitations sur les 3 dernières heures."
   ]
  },
  {
   "cell_type": "code",
   "execution_count": null,
   "id": "8025bf0c",
   "metadata": {
    "vscode": {
     "languageId": "r"
    }
   },
   "outputs": [],
   "source": [
    "# Calcul de la PLS\n",
    "model_pls <- plsr(Précipitations.dans.les.3.dernières.heures ~ ., data = df_acp, scale = TRUE, validation = \"CV\" )\n",
    "summary(model_pls)\n",
    "\n",
    "# Caclul de l'erreur du modèle PLS\n",
    "rmsep_pls <- RMSEP(model_pls)$val[1,,]\n",
    "\n",
    "# On plot l'erreur en fonction du nombre de paramètres gardés\n",
    "par(bg=\"white\")\n",
    "plot(rmsep_pls, type = \"b\", col = \"blue\", pch = 19,\n",
    "     xlab = \"Nombre de composantes\", ylab = \"RMSEP\",\n",
    "     main = \"RMSE PLS\")\n",
    "\n",
    "\n",
    "legend(\"topright\", legend = \"PLS\",\n",
    "       col = \"blue\", pch = 19, lty = 1)\n",
    "\n",
    "var_expl_y <- R2(model_pls, estimate = \"train\")$val[1, , ] * 100\n",
    "\n",
    "plot(var_expl_y, type = \"b\", col = \"red\", pch = 19, main = \"Variance Expliquer en fonction du nombre de paramètre\",\n",
    "      xlab = \"Nombre de composantes\", ylab = \"variance expliquée\", ylim = c(0, 100))\n",
    "\n",
    "legend(\"bottomright\", legend = \"Y variance expliquée\", col = \"red\", pch = 19, lty = 1)"
   ]
  },
  {
   "cell_type": "markdown",
   "id": "4be05f65",
   "metadata": {},
   "source": [
    "On peut voir ici avec la PLS, et nottament le graphique de la RMSE en fonction du nombre de paramètre que au bout de deux paramètre, on a déjà une erreur faible. On peut observer un plateau dès deux paramètre qui montre que entre 2 ou 5 paramètre, l'information gagner sur la prédiction n'est pas significative.\n",
    "De plus, cela rejoint la varaince expliquer dans le second graphique. on voit que avec 2 paramètre, la pls arrive déja a bien récupérere la plus part de l'information et l'ajoue d'autre paramètre ne change pas vraiment cet information. "
   ]
  },
  {
   "cell_type": "markdown",
   "id": "5cc6d841",
   "metadata": {},
   "source": [
    "# Clustering"
   ]
  },
  {
   "cell_type": "markdown",
   "id": "89e7fedb",
   "metadata": {},
   "source": [
    "## Déterminer les différents climats en france\n",
    "\n",
    "On va chercher à créer différents groupes, afin de classer les stations représentées dans ce jeu de données, pour repérer des climats similaires en France. On va, pour cela, se baser sur les températures moyennes mensuelles dans chaque station, ainsi que sur les taux d'humidités moyens mensuels dans chaque station (soit 24 variables).  \n",
    "  \n",
    "On va utiliser la méthode KMeans pour créer 6 groupes que l'on espère similaires.  \n",
    "On s'est pour l'instant heurté à des erreurs liées à une taille de nos données trop importante pour réaliser une Classification Ascendante Hiérarchique, donc les centres de départs de notre méthode KMeans seront choisis aléatoirement.  \n",
    "  \n",
    "On va commencer par créer le dataframe contenant les valeurs moyennes de température et d'humidité par mois, pour chaque station. On va ensuite standardiser ces données, car l'humidité est un pourcentage, et la température une valeur en °C, donc la différence d'unités aurait forcément donné plus de poids à l'humidité (on n'atteint rarement 90°C il me semble).\n"
   ]
  },
  {
   "cell_type": "code",
   "execution_count": null,
   "id": "cf9e9956",
   "metadata": {
    "vscode": {
     "languageId": "r"
    }
   },
   "outputs": [],
   "source": [
    "df_moy <- df %>%\n",
    "  group_by(communes..name., mois_de_l_annee) %>%\n",
    "  summarise(Temp_moy = mean(`Température...C.`, na.rm = TRUE),\n",
    "    Hum_moy  = mean(Humidité, na.rm = TRUE),\n",
    "    .groups = \"drop\")\n",
    "\n",
    "df_clustering <- df_moy %>%\n",
    "  pivot_wider(\n",
    "    names_from = mois_de_l_annee,\n",
    "    values_from = c(Temp_moy, Hum_moy),\n",
    "    names_sep = \"_\"\n",
    "  )\n",
    "\n",
    "df_clustering <- as.data.frame(df_clustering) \n",
    "rownames(df_clustering) <- df_clustering$communes..name.\n",
    "df_clustering$communes..name. <- NULL\n",
    "\n",
    "df_clustering <- scale(df_clustering)\n",
    "\n",
    "head(df_clustering)"
   ]
  },
  {
   "cell_type": "code",
   "execution_count": null,
   "id": "29c60039",
   "metadata": {
    "vscode": {
     "languageId": "r"
    }
   },
   "outputs": [],
   "source": [
    "dim(df_clustering)"
   ]
  },
  {
   "cell_type": "markdown",
   "id": "cc84b955",
   "metadata": {},
   "source": [
    "Erreur liée au calcul de la Classification en Ascendance Hiérarchique :"
   ]
  },
  {
   "cell_type": "code",
   "execution_count": null,
   "id": "d9126f29",
   "metadata": {
    "vscode": {
     "languageId": "r"
    }
   },
   "outputs": [],
   "source": [
    "distances = dist(df_clustering)\n",
    "cah = hclust(df_clustering, method = \"complete\")\n",
    "groupes = cutree(cah_ward, k = 6)\n"
   ]
  },
  {
   "cell_type": "code",
   "execution_count": null,
   "id": "e37870ec",
   "metadata": {
    "vscode": {
     "languageId": "r"
    }
   },
   "outputs": [],
   "source": [
    "kmeans <- kmeans(df_clustering, centers=6)\n",
    "cat(\"Groupes des individus pour la méthode K-means :\\n\")\n",
    "print(kmeans$cluster)"
   ]
  },
  {
   "cell_type": "markdown",
   "id": "f9aabc0c",
   "metadata": {},
   "source": [
    "Les stations sont donc classées dans 6 groupes après application de l'algorithme de KMeans. On va essayer de visualiser ces groupes sur le graphe d'une ACP, afin de distinguer si les membres d'un même groupe semblent effectivement correspondre à des stations de climat semblable.  \n",
    "  \n",
    "L'ACP est effectuée sur les variables choisies pour le clustering (les 24 valeurs moyennes mensuelles)."
   ]
  },
  {
   "cell_type": "code",
   "execution_count": null,
   "id": "7cc4094c",
   "metadata": {
    "vscode": {
     "languageId": "r"
    }
   },
   "outputs": [],
   "source": [
    "acp_clustering <- prcomp(df_clustering)\n",
    "colors <- c(\"red\", \"blue\", \"green\", \"black\", \"orange\", \"pink\")\n",
    "point_colors <- colors[kmeans$cluster]\n",
    "par(bg = \"white\")\n",
    "plot(acp_clustering$x[,1], acp_clustering$x[,2], \n",
    "     col = point_colors, \n",
    "     pch = 19,\n",
    "     xlab=\"PC1\", ylab=\"PC2\",\n",
    "     main=\"ACP avec couleurs selon l'algo KMeans\")\n",
    "\n",
    "text(acp_clustering$x[,1], acp_clustering$x[,2], \n",
    "     labels = rownames(df_clustering), \n",
    "     pos = 3,\n",
    "     cex = 0.7)\n",
    "     \n",
    "legend(\"topright\", legend = paste(\"Cluster\", 1:5), col=colors, pch=19)\n",
    "abline(v = 0, lty = 2, col = \"black\")\n",
    "abline(h = 0, lty = 2, col = \"black\")"
   ]
  },
  {
   "cell_type": "markdown",
   "id": "178f251c",
   "metadata": {},
   "source": [
    "Au vu de ce graphique, on note que les 6 groupes obtenus semblent bien distincts (ils ne sont pas mélangés dans l'ACP). On note immédiatemment que deux groupes sont très différents des autres (en orange et rose sur le graphe), et en regardant les stations concernées, on réalise qu'il s'agit des stations d'Outre-Mer, ce qui semble plutôt logique étant donné la différence de climat avec la métropole.  \n",
    "\n",
    "On aurait pu réaliser la même analyse en enlevant les données d'Outre-Mer pour avoir moins d'écarts, mais au moins ces différences sont bien mises en évidence.  \n",
    "Ensuite, on remarque que le groupe bleu correspond majoritairement à des stations situées au Sud de la France (Nice, Ajaccio, Marignane...), et le groupe rouge correspond majoritairement à des stations au Nord de la France (Abbeville, La Hague, Perros-Guirec, ...).  \n",
    "  \n",
    "Le résultat de ce clustering semble donc plutôt cohérent, mais il aurait pu être davantage optimisé en choisissant d'autres variables pour le réaliser (les précipitations par exemple)."
   ]
  }
 ],
 "metadata": {
  "kernelspec": {
   "display_name": "R",
   "language": "R",
   "name": "ir"
  },
  "language_info": {
   "codemirror_mode": "r",
   "file_extension": ".r",
   "mimetype": "text/x-r-source",
   "name": "R",
   "pygments_lexer": "r",
   "version": "4.3.3"
  }
 },
 "nbformat": 4,
 "nbformat_minor": 5
}
